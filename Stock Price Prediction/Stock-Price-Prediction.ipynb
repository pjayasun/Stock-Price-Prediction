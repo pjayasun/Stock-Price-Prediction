{
 "cells": [
  {
   "cell_type": "code",
   "execution_count": 4,
   "id": "667349e9",
   "metadata": {},
   "outputs": [],
   "source": [
    "import math\n",
    "import matplotlib.pyplot as plt\n",
    "import keras\n",
    "import pandas as pd\n",
    "import numpy as np"
   ]
  },
  {
   "cell_type": "code",
   "execution_count": 5,
   "id": "06eee55c",
   "metadata": {},
   "outputs": [],
   "source": [
    "from keras.models import Sequential\n",
    "from keras.layers import Dense\n",
    "from keras.layers import LSTM\n",
    "from keras.layers import Dropout\n",
    "from keras.layers import *"
   ]
  },
  {
   "cell_type": "code",
   "execution_count": 6,
   "id": "406156f6",
   "metadata": {},
   "outputs": [],
   "source": [
    "from sklearn.preprocessing import MinMaxScaler\n",
    "from sklearn.metrics import mean_squared_error\n",
    "from sklearn.metrics import mean_absolute_error\n",
    "from sklearn.model_selection import train_test_split\n",
    "from sklearn.metrics import r2_score"
   ]
  },
  {
   "cell_type": "code",
   "execution_count": 7,
   "id": "189f456a",
   "metadata": {},
   "outputs": [
    {
     "name": "stdout",
     "output_type": "stream",
     "text": [
      "Number of rows and columns: (5306, 15)\n"
     ]
    },
    {
     "data": {
      "text/html": [
       "<div>\n",
       "<style scoped>\n",
       "    .dataframe tbody tr th:only-of-type {\n",
       "        vertical-align: middle;\n",
       "    }\n",
       "\n",
       "    .dataframe tbody tr th {\n",
       "        vertical-align: top;\n",
       "    }\n",
       "\n",
       "    .dataframe thead th {\n",
       "        text-align: right;\n",
       "    }\n",
       "</style>\n",
       "<table border=\"1\" class=\"dataframe\">\n",
       "  <thead>\n",
       "    <tr style=\"text-align: right;\">\n",
       "      <th></th>\n",
       "      <th>Date</th>\n",
       "      <th>Symbol</th>\n",
       "      <th>Series</th>\n",
       "      <th>Prev Close</th>\n",
       "      <th>Open</th>\n",
       "      <th>High</th>\n",
       "      <th>Low</th>\n",
       "      <th>Last</th>\n",
       "      <th>Close</th>\n",
       "      <th>VWAP</th>\n",
       "      <th>Volume</th>\n",
       "      <th>Turnover</th>\n",
       "      <th>Trades</th>\n",
       "      <th>Deliverable Volume</th>\n",
       "      <th>%Deliverble</th>\n",
       "    </tr>\n",
       "  </thead>\n",
       "  <tbody>\n",
       "    <tr>\n",
       "      <th>0</th>\n",
       "      <td>2000-01-03</td>\n",
       "      <td>SBIN</td>\n",
       "      <td>EQ</td>\n",
       "      <td>225.60</td>\n",
       "      <td>236.00</td>\n",
       "      <td>243.65</td>\n",
       "      <td>234.25</td>\n",
       "      <td>243.65</td>\n",
       "      <td>243.65</td>\n",
       "      <td>240.83</td>\n",
       "      <td>2373228</td>\n",
       "      <td>5.715338e+13</td>\n",
       "      <td>NaN</td>\n",
       "      <td>NaN</td>\n",
       "      <td>NaN</td>\n",
       "    </tr>\n",
       "    <tr>\n",
       "      <th>1</th>\n",
       "      <td>2000-01-04</td>\n",
       "      <td>SBIN</td>\n",
       "      <td>EQ</td>\n",
       "      <td>243.65</td>\n",
       "      <td>243.65</td>\n",
       "      <td>262.00</td>\n",
       "      <td>238.85</td>\n",
       "      <td>258.00</td>\n",
       "      <td>259.10</td>\n",
       "      <td>251.46</td>\n",
       "      <td>4495741</td>\n",
       "      <td>1.130506e+14</td>\n",
       "      <td>NaN</td>\n",
       "      <td>NaN</td>\n",
       "      <td>NaN</td>\n",
       "    </tr>\n",
       "    <tr>\n",
       "      <th>2</th>\n",
       "      <td>2000-01-05</td>\n",
       "      <td>SBIN</td>\n",
       "      <td>EQ</td>\n",
       "      <td>259.10</td>\n",
       "      <td>249.00</td>\n",
       "      <td>264.70</td>\n",
       "      <td>245.00</td>\n",
       "      <td>249.05</td>\n",
       "      <td>248.45</td>\n",
       "      <td>252.35</td>\n",
       "      <td>3434058</td>\n",
       "      <td>8.666008e+13</td>\n",
       "      <td>NaN</td>\n",
       "      <td>NaN</td>\n",
       "      <td>NaN</td>\n",
       "    </tr>\n",
       "    <tr>\n",
       "      <th>3</th>\n",
       "      <td>2000-01-06</td>\n",
       "      <td>SBIN</td>\n",
       "      <td>EQ</td>\n",
       "      <td>248.45</td>\n",
       "      <td>252.00</td>\n",
       "      <td>268.00</td>\n",
       "      <td>252.00</td>\n",
       "      <td>260.50</td>\n",
       "      <td>261.00</td>\n",
       "      <td>262.18</td>\n",
       "      <td>6658801</td>\n",
       "      <td>1.745817e+14</td>\n",
       "      <td>NaN</td>\n",
       "      <td>NaN</td>\n",
       "      <td>NaN</td>\n",
       "    </tr>\n",
       "    <tr>\n",
       "      <th>4</th>\n",
       "      <td>2000-01-07</td>\n",
       "      <td>SBIN</td>\n",
       "      <td>EQ</td>\n",
       "      <td>261.00</td>\n",
       "      <td>261.50</td>\n",
       "      <td>279.90</td>\n",
       "      <td>255.00</td>\n",
       "      <td>279.00</td>\n",
       "      <td>273.30</td>\n",
       "      <td>269.02</td>\n",
       "      <td>7873985</td>\n",
       "      <td>2.118287e+14</td>\n",
       "      <td>NaN</td>\n",
       "      <td>NaN</td>\n",
       "      <td>NaN</td>\n",
       "    </tr>\n",
       "  </tbody>\n",
       "</table>\n",
       "</div>"
      ],
      "text/plain": [
       "         Date Symbol Series  Prev Close    Open    High     Low    Last  \\\n",
       "0  2000-01-03   SBIN     EQ      225.60  236.00  243.65  234.25  243.65   \n",
       "1  2000-01-04   SBIN     EQ      243.65  243.65  262.00  238.85  258.00   \n",
       "2  2000-01-05   SBIN     EQ      259.10  249.00  264.70  245.00  249.05   \n",
       "3  2000-01-06   SBIN     EQ      248.45  252.00  268.00  252.00  260.50   \n",
       "4  2000-01-07   SBIN     EQ      261.00  261.50  279.90  255.00  279.00   \n",
       "\n",
       "    Close    VWAP   Volume      Turnover  Trades  Deliverable Volume  \\\n",
       "0  243.65  240.83  2373228  5.715338e+13     NaN                 NaN   \n",
       "1  259.10  251.46  4495741  1.130506e+14     NaN                 NaN   \n",
       "2  248.45  252.35  3434058  8.666008e+13     NaN                 NaN   \n",
       "3  261.00  262.18  6658801  1.745817e+14     NaN                 NaN   \n",
       "4  273.30  269.02  7873985  2.118287e+14     NaN                 NaN   \n",
       "\n",
       "   %Deliverble  \n",
       "0          NaN  \n",
       "1          NaN  \n",
       "2          NaN  \n",
       "3          NaN  \n",
       "4          NaN  "
      ]
     },
     "execution_count": 7,
     "metadata": {},
     "output_type": "execute_result"
    }
   ],
   "source": [
    "df=pd.read_csv(\"SBIN.csv\")\n",
    "print('Number of rows and columns:', df.shape)\n",
    "df.head(5)"
   ]
  },
  {
   "cell_type": "code",
   "execution_count": 8,
   "id": "03656ee5",
   "metadata": {},
   "outputs": [],
   "source": [
    "df.drop(columns = 'Symbol', inplace = True)\n",
    "df.drop(columns = 'Series', inplace = True)\n",
    "df.drop(columns = 'Prev Close', inplace = True)\n",
    "df.drop(columns = 'Turnover', inplace = True)\n",
    "df.drop(columns = 'Trades', inplace = True)\n",
    "df.drop(columns = 'Deliverable Volume', inplace = True)\n",
    "df.drop(columns = '%Deliverble', inplace = True)"
   ]
  },
  {
   "cell_type": "code",
   "execution_count": 9,
   "id": "ecadec7e",
   "metadata": {},
   "outputs": [
    {
     "data": {
      "text/html": [
       "<div>\n",
       "<style scoped>\n",
       "    .dataframe tbody tr th:only-of-type {\n",
       "        vertical-align: middle;\n",
       "    }\n",
       "\n",
       "    .dataframe tbody tr th {\n",
       "        vertical-align: top;\n",
       "    }\n",
       "\n",
       "    .dataframe thead th {\n",
       "        text-align: right;\n",
       "    }\n",
       "</style>\n",
       "<table border=\"1\" class=\"dataframe\">\n",
       "  <thead>\n",
       "    <tr style=\"text-align: right;\">\n",
       "      <th></th>\n",
       "      <th>Date</th>\n",
       "      <th>Open</th>\n",
       "      <th>High</th>\n",
       "      <th>Low</th>\n",
       "      <th>Last</th>\n",
       "      <th>Close</th>\n",
       "      <th>VWAP</th>\n",
       "      <th>Volume</th>\n",
       "    </tr>\n",
       "  </thead>\n",
       "  <tbody>\n",
       "    <tr>\n",
       "      <th>0</th>\n",
       "      <td>2000-01-03</td>\n",
       "      <td>236.00</td>\n",
       "      <td>243.65</td>\n",
       "      <td>234.25</td>\n",
       "      <td>243.65</td>\n",
       "      <td>243.65</td>\n",
       "      <td>240.83</td>\n",
       "      <td>2373228</td>\n",
       "    </tr>\n",
       "    <tr>\n",
       "      <th>1</th>\n",
       "      <td>2000-01-04</td>\n",
       "      <td>243.65</td>\n",
       "      <td>262.00</td>\n",
       "      <td>238.85</td>\n",
       "      <td>258.00</td>\n",
       "      <td>259.10</td>\n",
       "      <td>251.46</td>\n",
       "      <td>4495741</td>\n",
       "    </tr>\n",
       "    <tr>\n",
       "      <th>2</th>\n",
       "      <td>2000-01-05</td>\n",
       "      <td>249.00</td>\n",
       "      <td>264.70</td>\n",
       "      <td>245.00</td>\n",
       "      <td>249.05</td>\n",
       "      <td>248.45</td>\n",
       "      <td>252.35</td>\n",
       "      <td>3434058</td>\n",
       "    </tr>\n",
       "    <tr>\n",
       "      <th>3</th>\n",
       "      <td>2000-01-06</td>\n",
       "      <td>252.00</td>\n",
       "      <td>268.00</td>\n",
       "      <td>252.00</td>\n",
       "      <td>260.50</td>\n",
       "      <td>261.00</td>\n",
       "      <td>262.18</td>\n",
       "      <td>6658801</td>\n",
       "    </tr>\n",
       "    <tr>\n",
       "      <th>4</th>\n",
       "      <td>2000-01-07</td>\n",
       "      <td>261.50</td>\n",
       "      <td>279.90</td>\n",
       "      <td>255.00</td>\n",
       "      <td>279.00</td>\n",
       "      <td>273.30</td>\n",
       "      <td>269.02</td>\n",
       "      <td>7873985</td>\n",
       "    </tr>\n",
       "  </tbody>\n",
       "</table>\n",
       "</div>"
      ],
      "text/plain": [
       "         Date    Open    High     Low    Last   Close    VWAP   Volume\n",
       "0  2000-01-03  236.00  243.65  234.25  243.65  243.65  240.83  2373228\n",
       "1  2000-01-04  243.65  262.00  238.85  258.00  259.10  251.46  4495741\n",
       "2  2000-01-05  249.00  264.70  245.00  249.05  248.45  252.35  3434058\n",
       "3  2000-01-06  252.00  268.00  252.00  260.50  261.00  262.18  6658801\n",
       "4  2000-01-07  261.50  279.90  255.00  279.00  273.30  269.02  7873985"
      ]
     },
     "execution_count": 9,
     "metadata": {},
     "output_type": "execute_result"
    }
   ],
   "source": [
    "df.head()"
   ]
  },
  {
   "cell_type": "code",
   "execution_count": 10,
   "id": "748a4174",
   "metadata": {},
   "outputs": [
    {
     "data": {
      "text/html": [
       "<div>\n",
       "<style scoped>\n",
       "    .dataframe tbody tr th:only-of-type {\n",
       "        vertical-align: middle;\n",
       "    }\n",
       "\n",
       "    .dataframe tbody tr th {\n",
       "        vertical-align: top;\n",
       "    }\n",
       "\n",
       "    .dataframe thead th {\n",
       "        text-align: right;\n",
       "    }\n",
       "</style>\n",
       "<table border=\"1\" class=\"dataframe\">\n",
       "  <thead>\n",
       "    <tr style=\"text-align: right;\">\n",
       "      <th></th>\n",
       "      <th>Close</th>\n",
       "    </tr>\n",
       "  </thead>\n",
       "  <tbody>\n",
       "    <tr>\n",
       "      <th>0</th>\n",
       "      <td>243.65</td>\n",
       "    </tr>\n",
       "    <tr>\n",
       "      <th>1</th>\n",
       "      <td>259.10</td>\n",
       "    </tr>\n",
       "    <tr>\n",
       "      <th>2</th>\n",
       "      <td>248.45</td>\n",
       "    </tr>\n",
       "    <tr>\n",
       "      <th>3</th>\n",
       "      <td>261.00</td>\n",
       "    </tr>\n",
       "    <tr>\n",
       "      <th>4</th>\n",
       "      <td>273.30</td>\n",
       "    </tr>\n",
       "  </tbody>\n",
       "</table>\n",
       "</div>"
      ],
      "text/plain": [
       "    Close\n",
       "0  243.65\n",
       "1  259.10\n",
       "2  248.45\n",
       "3  261.00\n",
       "4  273.30"
      ]
     },
     "execution_count": 10,
     "metadata": {},
     "output_type": "execute_result"
    }
   ],
   "source": [
    "df.iloc[0:, 5:6].head()"
   ]
  },
  {
   "cell_type": "code",
   "execution_count": 11,
   "id": "be79f087",
   "metadata": {},
   "outputs": [],
   "source": [
    "training_set = df.iloc[:4000, 5:6].values\n",
    "test_set = df.iloc[4000:, 5:6].values"
   ]
  },
  {
   "cell_type": "code",
   "execution_count": 12,
   "id": "524aab9a",
   "metadata": {},
   "outputs": [],
   "source": [
    "# Feature Scaling\n",
    "sc = MinMaxScaler(feature_range = (0, 1))\n",
    "training_set_scaled = sc.fit_transform(training_set)\n",
    "# Creating a data structure with 60 time-steps and 1 output\n",
    "X_train = []\n",
    "y_train = []\n",
    "for i in range(60, 4000):\n",
    "    X_train.append(training_set_scaled[i-60:i, 0])\n",
    "    y_train.append(training_set_scaled[i, 0])\n",
    "X_train, y_train = np.array(X_train), np.array(y_train)\n",
    "X_train = np.reshape(X_train, (X_train.shape[0], X_train.shape[1], 1))\n",
    "#(740, 60, 1)"
   ]
  },
  {
   "cell_type": "code",
   "execution_count": 13,
   "id": "9c6543cb",
   "metadata": {},
   "outputs": [
    {
     "data": {
      "text/plain": [
       "(3940, 60, 1)"
      ]
     },
     "execution_count": 13,
     "metadata": {},
     "output_type": "execute_result"
    }
   ],
   "source": [
    "X_train.shape"
   ]
  },
  {
   "cell_type": "code",
   "execution_count": 14,
   "id": "e0677ec3",
   "metadata": {},
   "outputs": [
    {
     "name": "stdout",
     "output_type": "stream",
     "text": [
      "Epoch 1/100\n",
      "124/124 [==============================] - 13s 66ms/step - loss: 0.0125\n",
      "Epoch 2/100\n",
      "124/124 [==============================] - 10s 78ms/step - loss: 0.0044\n",
      "Epoch 3/100\n",
      "124/124 [==============================] - 8s 66ms/step - loss: 0.0038\n",
      "Epoch 4/100\n",
      "124/124 [==============================] - 8s 63ms/step - loss: 0.0036\n",
      "Epoch 5/100\n",
      "124/124 [==============================] - 12s 94ms/step - loss: 0.0031\n",
      "Epoch 6/100\n",
      "124/124 [==============================] - 12s 92ms/step - loss: 0.0030\n",
      "Epoch 7/100\n",
      "124/124 [==============================] - 8s 65ms/step - loss: 0.0027\n",
      "Epoch 8/100\n",
      "124/124 [==============================] - 9s 71ms/step - loss: 0.0025\n",
      "Epoch 9/100\n",
      "124/124 [==============================] - 9s 71ms/step - loss: 0.0023\n",
      "Epoch 10/100\n",
      "124/124 [==============================] - 9s 69ms/step - loss: 0.0023\n",
      "Epoch 11/100\n",
      "124/124 [==============================] - 9s 69ms/step - loss: 0.0022\n",
      "Epoch 12/100\n",
      "124/124 [==============================] - 9s 71ms/step - loss: 0.0020\n",
      "Epoch 13/100\n",
      "124/124 [==============================] - 9s 70ms/step - loss: 0.0019\n",
      "Epoch 14/100\n",
      "124/124 [==============================] - 8s 68ms/step - loss: 0.0019\n",
      "Epoch 15/100\n",
      "124/124 [==============================] - 9s 70ms/step - loss: 0.0018\n",
      "Epoch 16/100\n",
      "124/124 [==============================] - 9s 71ms/step - loss: 0.0017\n",
      "Epoch 17/100\n",
      "124/124 [==============================] - 9s 72ms/step - loss: 0.0016\n",
      "Epoch 18/100\n",
      "124/124 [==============================] - 8s 68ms/step - loss: 0.0016\n",
      "Epoch 19/100\n",
      "124/124 [==============================] - 9s 70ms/step - loss: 0.0015\n",
      "Epoch 20/100\n",
      "124/124 [==============================] - 9s 71ms/step - loss: 0.0015\n",
      "Epoch 21/100\n",
      "124/124 [==============================] - 8s 68ms/step - loss: 0.0014\n",
      "Epoch 22/100\n",
      "124/124 [==============================] - 9s 70ms/step - loss: 0.0014\n",
      "Epoch 23/100\n",
      "124/124 [==============================] - 9s 70ms/step - loss: 0.0013\n",
      "Epoch 24/100\n",
      "124/124 [==============================] - 8s 68ms/step - loss: 0.0014\n",
      "Epoch 25/100\n",
      "124/124 [==============================] - 9s 72ms/step - loss: 0.0013\n",
      "Epoch 26/100\n",
      "124/124 [==============================] - 8s 67ms/step - loss: 0.0012\n",
      "Epoch 27/100\n",
      "124/124 [==============================] - 9s 69ms/step - loss: 0.0014\n",
      "Epoch 28/100\n",
      "124/124 [==============================] - 9s 70ms/step - loss: 0.0012\n",
      "Epoch 29/100\n",
      "124/124 [==============================] - 8s 66ms/step - loss: 0.0012\n",
      "Epoch 30/100\n",
      "124/124 [==============================] - 9s 70ms/step - loss: 0.0012\n",
      "Epoch 31/100\n",
      "124/124 [==============================] - 8s 68ms/step - loss: 0.0012\n",
      "Epoch 32/100\n",
      "124/124 [==============================] - 9s 70ms/step - loss: 0.0011\n",
      "Epoch 33/100\n",
      "124/124 [==============================] - 13s 106ms/step - loss: 0.0011\n",
      "Epoch 34/100\n",
      "124/124 [==============================] - 12s 99ms/step - loss: 0.0011\n",
      "Epoch 35/100\n",
      "124/124 [==============================] - 11s 85ms/step - loss: 0.0011\n",
      "Epoch 36/100\n",
      "124/124 [==============================] - 10s 78ms/step - loss: 0.0010\n",
      "Epoch 37/100\n",
      "124/124 [==============================] - 8s 66ms/step - loss: 0.0012\n",
      "Epoch 38/100\n",
      "124/124 [==============================] - 8s 63ms/step - loss: 0.0011\n",
      "Epoch 39/100\n",
      "124/124 [==============================] - 8s 66ms/step - loss: 0.0012\n",
      "Epoch 40/100\n",
      "124/124 [==============================] - 8s 67ms/step - loss: 0.0010\n",
      "Epoch 41/100\n",
      "124/124 [==============================] - 8s 64ms/step - loss: 0.0011\n",
      "Epoch 42/100\n",
      "124/124 [==============================] - 8s 66ms/step - loss: 0.0011\n",
      "Epoch 43/100\n",
      "124/124 [==============================] - 8s 65ms/step - loss: 9.8892e-04\n",
      "Epoch 44/100\n",
      "124/124 [==============================] - 8s 66ms/step - loss: 0.0010\n",
      "Epoch 45/100\n",
      "124/124 [==============================] - 8s 67ms/step - loss: 0.0011\n",
      "Epoch 46/100\n",
      "124/124 [==============================] - 8s 66ms/step - loss: 9.9322e-04\n",
      "Epoch 47/100\n",
      "124/124 [==============================] - 8s 63ms/step - loss: 0.0010\n",
      "Epoch 48/100\n",
      "124/124 [==============================] - 8s 66ms/step - loss: 0.0011\n",
      "Epoch 49/100\n",
      "124/124 [==============================] - 8s 62ms/step - loss: 0.0010\n",
      "Epoch 50/100\n",
      "124/124 [==============================] - 8s 64ms/step - loss: 0.0011\n",
      "Epoch 51/100\n",
      "124/124 [==============================] - 8s 65ms/step - loss: 9.8034e-04\n",
      "Epoch 52/100\n",
      "124/124 [==============================] - 8s 62ms/step - loss: 0.0010\n",
      "Epoch 53/100\n",
      "124/124 [==============================] - 8s 65ms/step - loss: 9.8058e-04\n",
      "Epoch 54/100\n",
      "124/124 [==============================] - 8s 63ms/step - loss: 9.6555e-04\n",
      "Epoch 55/100\n",
      "124/124 [==============================] - 8s 63ms/step - loss: 9.6504e-04\n",
      "Epoch 56/100\n",
      "124/124 [==============================] - 8s 65ms/step - loss: 9.2021e-04\n",
      "Epoch 57/100\n",
      "124/124 [==============================] - 8s 66ms/step - loss: 0.0010\n",
      "Epoch 58/100\n",
      "124/124 [==============================] - 8s 62ms/step - loss: 9.5464e-04\n",
      "Epoch 59/100\n",
      "124/124 [==============================] - 8s 66ms/step - loss: 9.6396e-04\n",
      "Epoch 60/100\n",
      "124/124 [==============================] - 8s 66ms/step - loss: 9.8167e-04\n",
      "Epoch 61/100\n",
      "124/124 [==============================] - 8s 64ms/step - loss: 9.9439e-04\n",
      "Epoch 62/100\n",
      "124/124 [==============================] - 8s 63ms/step - loss: 9.2115e-04\n",
      "Epoch 63/100\n",
      "124/124 [==============================] - 8s 67ms/step - loss: 8.7863e-04\n",
      "Epoch 64/100\n",
      "124/124 [==============================] - 8s 64ms/step - loss: 9.9492e-04\n",
      "Epoch 65/100\n",
      "124/124 [==============================] - 8s 63ms/step - loss: 9.8081e-04\n",
      "Epoch 66/100\n",
      "124/124 [==============================] - 8s 66ms/step - loss: 8.9485e-04\n",
      "Epoch 67/100\n",
      "124/124 [==============================] - 9s 69ms/step - loss: 9.4279e-04\n",
      "Epoch 68/100\n",
      "124/124 [==============================] - 9s 75ms/step - loss: 9.2256e-04\n",
      "Epoch 69/100\n",
      "124/124 [==============================] - 8s 68ms/step - loss: 9.3416e-04\n",
      "Epoch 70/100\n",
      "124/124 [==============================] - 8s 61ms/step - loss: 8.7977e-04\n",
      "Epoch 71/100\n",
      "124/124 [==============================] - 8s 61ms/step - loss: 8.6396e-04\n",
      "Epoch 72/100\n",
      "124/124 [==============================] - 8s 62ms/step - loss: 8.3917e-04\n",
      "Epoch 73/100\n",
      "124/124 [==============================] - 11s 86ms/step - loss: 9.4339e-04\n",
      "Epoch 74/100\n",
      "124/124 [==============================] - 9s 75ms/step - loss: 8.7263e-04\n",
      "Epoch 75/100\n",
      "124/124 [==============================] - 9s 75ms/step - loss: 8.4904e-04\n",
      "Epoch 76/100\n",
      "124/124 [==============================] - 10s 83ms/step - loss: 9.6023e-04\n",
      "Epoch 77/100\n",
      "124/124 [==============================] - 11s 91ms/step - loss: 9.1689e-04\n",
      "Epoch 78/100\n",
      "124/124 [==============================] - 11s 86ms/step - loss: 9.0332e-04\n",
      "Epoch 79/100\n",
      "124/124 [==============================] - 11s 90ms/step - loss: 9.2823e-04\n",
      "Epoch 80/100\n",
      "124/124 [==============================] - 10s 85ms/step - loss: 8.8188e-04\n",
      "Epoch 81/100\n",
      "124/124 [==============================] - 11s 89ms/step - loss: 9.3002e-04\n",
      "Epoch 82/100\n",
      "124/124 [==============================] - 11s 86ms/step - loss: 8.6861e-04\n",
      "Epoch 83/100\n",
      "124/124 [==============================] - 11s 89ms/step - loss: 8.3901e-04\n",
      "Epoch 84/100\n",
      "124/124 [==============================] - 10s 84ms/step - loss: 8.9749e-04\n",
      "Epoch 85/100\n",
      "124/124 [==============================] - 11s 88ms/step - loss: 8.5109e-04\n",
      "Epoch 86/100\n",
      "124/124 [==============================] - 10s 84ms/step - loss: 8.8331e-04\n",
      "Epoch 87/100\n",
      "124/124 [==============================] - 11s 88ms/step - loss: 9.6078e-04\n",
      "Epoch 88/100\n",
      "124/124 [==============================] - 11s 85ms/step - loss: 8.9926e-04\n",
      "Epoch 89/100\n",
      "124/124 [==============================] - 11s 86ms/step - loss: 7.9575e-04\n",
      "Epoch 90/100\n",
      "124/124 [==============================] - 11s 86ms/step - loss: 8.3391e-04\n",
      "Epoch 91/100\n",
      "124/124 [==============================] - 11s 85ms/step - loss: 8.7842e-04\n",
      "Epoch 92/100\n",
      "124/124 [==============================] - 11s 85ms/step - loss: 9.0673e-04\n",
      "Epoch 93/100\n",
      "124/124 [==============================] - 11s 85ms/step - loss: 9.1584e-04\n",
      "Epoch 94/100\n",
      "124/124 [==============================] - 10s 84ms/step - loss: 8.2636e-04\n",
      "Epoch 95/100\n",
      "124/124 [==============================] - 11s 86ms/step - loss: 8.8912e-04\n",
      "Epoch 96/100\n"
     ]
    },
    {
     "name": "stdout",
     "output_type": "stream",
     "text": [
      "124/124 [==============================] - 10s 85ms/step - loss: 8.8834e-04\n",
      "Epoch 97/100\n",
      "124/124 [==============================] - 11s 89ms/step - loss: 8.4568e-04\n",
      "Epoch 98/100\n",
      "124/124 [==============================] - 11s 87ms/step - loss: 8.6378e-04\n",
      "Epoch 99/100\n",
      "124/124 [==============================] - 11s 85ms/step - loss: 7.9511e-04\n",
      "Epoch 100/100\n",
      "124/124 [==============================] - 13s 102ms/step - loss: 8.3679e-04\n"
     ]
    },
    {
     "data": {
      "text/plain": [
       "<keras.callbacks.History at 0x7fc43b044b80>"
      ]
     },
     "execution_count": 14,
     "metadata": {},
     "output_type": "execute_result"
    }
   ],
   "source": [
    "model = Sequential()\n",
    "#Adding the first LSTM layer and some Dropout regularisation\n",
    "model.add(LSTM(units = 50, return_sequences = True, input_shape = (X_train.shape[1], 1)))\n",
    "model.add(Dropout(0.2))\n",
    "# Adding a second LSTM layer and some Dropout regularisation\n",
    "model.add(LSTM(units = 50, return_sequences = True))\n",
    "model.add(Dropout(0.2))\n",
    "# Adding a third LSTM layer and some Dropout regularisation\n",
    "model.add(LSTM(units = 50, return_sequences = True))\n",
    "model.add(Dropout(0.2))\n",
    "# Adding a fourth LSTM layer and some Dropout regularisation\n",
    "model.add(LSTM(units = 50))\n",
    "model.add(Dropout(0.2))\n",
    "# Adding the output layer\n",
    "model.add(Dense(units = 1))\n",
    "\n",
    "# Compiling the RNN\n",
    "model.compile(optimizer = 'adam', loss = 'mean_squared_error')\n",
    "\n",
    "# Fitting the RNN to the Training set\n",
    "model.fit(X_train, y_train, epochs = 100, batch_size = 32)"
   ]
  },
  {
   "cell_type": "code",
   "execution_count": 40,
   "id": "f3dbec70",
   "metadata": {},
   "outputs": [
    {
     "name": "stdout",
     "output_type": "stream",
     "text": [
      "(1306, 60, 1)\n"
     ]
    }
   ],
   "source": [
    "# Getting the predicted stock price of 2017\n",
    "dataset_train = df.iloc[:4000, 4:5]\n",
    "dataset_test = df.iloc[4000:, 4:5]\n",
    "dataset_total = pd.concat((dataset_train, dataset_test), axis = 0)\n",
    "inputs = dataset_total[len(dataset_total) - len(dataset_test) - 60:].values\n",
    "inputs = inputs.reshape(-1,1)\n",
    "inputs = sc.transform(inputs)\n",
    "X_test = []\n",
    "for i in range(60, 1366):\n",
    "    X_test.append(inputs[i-60:i, 0])\n",
    "X_test = np.array(X_test)\n",
    "X_test = np.reshape(X_test, (X_test.shape[0], X_test.shape[1], 1))\n",
    "print(X_test.shape)\n",
    "# (459, 60, 1)"
   ]
  },
  {
   "cell_type": "code",
   "execution_count": 41,
   "id": "f00c471c",
   "metadata": {},
   "outputs": [],
   "source": [
    "predicted_stock_price = model.predict(X_test)\n",
    "predicted_stock_price = sc.inverse_transform(predicted_stock_price)"
   ]
  },
  {
   "cell_type": "code",
   "execution_count": 42,
   "id": "7db78f11",
   "metadata": {},
   "outputs": [
    {
     "data": {
      "text/plain": [
       "(4000, 1)"
      ]
     },
     "execution_count": 42,
     "metadata": {},
     "output_type": "execute_result"
    }
   ],
   "source": [
    "dataset_train.shape"
   ]
  },
  {
   "cell_type": "code",
   "execution_count": 43,
   "id": "375d3026",
   "metadata": {},
   "outputs": [
    {
     "data": {
      "text/plain": [
       "(1306, 1)"
      ]
     },
     "execution_count": 43,
     "metadata": {},
     "output_type": "execute_result"
    }
   ],
   "source": [
    "dataset_test.shape"
   ]
  },
  {
   "cell_type": "code",
   "execution_count": 44,
   "id": "018d28de",
   "metadata": {},
   "outputs": [
    {
     "data": {
      "text/plain": [
       "(1306, 1)"
      ]
     },
     "execution_count": 44,
     "metadata": {},
     "output_type": "execute_result"
    }
   ],
   "source": [
    "predicted_stock_price.shape"
   ]
  },
  {
   "cell_type": "code",
   "execution_count": 47,
   "id": "9293f255",
   "metadata": {},
   "outputs": [
    {
     "data": {
      "text/plain": [
       "0.9581608057427577"
      ]
     },
     "execution_count": 47,
     "metadata": {},
     "output_type": "execute_result"
    }
   ],
   "source": [
    "r2_score(dataset_test.values,predicted_stock_price)"
   ]
  },
  {
   "cell_type": "code",
   "execution_count": null,
   "id": "172cfec3",
   "metadata": {},
   "outputs": [],
   "source": []
  }
 ],
 "metadata": {
  "kernelspec": {
   "display_name": "Python 3",
   "language": "python",
   "name": "python3"
  },
  "language_info": {
   "codemirror_mode": {
    "name": "ipython",
    "version": 3
   },
   "file_extension": ".py",
   "mimetype": "text/x-python",
   "name": "python",
   "nbconvert_exporter": "python",
   "pygments_lexer": "ipython3",
   "version": "3.8.8"
  }
 },
 "nbformat": 4,
 "nbformat_minor": 5
}
